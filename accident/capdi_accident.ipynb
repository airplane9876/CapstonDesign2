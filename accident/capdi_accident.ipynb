{
  "cells": [
    {
      "cell_type": "code",
      "execution_count": null,
      "metadata": {
        "id": "akKMOhbzC7Ph"
      },
      "outputs": [],
      "source": [
        "import tensorflow as tf\n",
        "import numpy as np\n",
        "import matplotlib.pyplot as plt\n",
        "import cv2\n",
        "import os\n",
        "import keras.datasets.mnist as Mnist\n",
        "from PIL import Image\n",
        "from keras.models import load_model\n",
        "\n",
        "batch=60"
      ]
    },
    {
      "cell_type": "code",
      "source": [
        "from google.colab import drive\n",
        "drive.mount('/content/drive')"
      ],
      "metadata": {
        "id": "mYuHtbczBXMQ",
        "colab": {
          "base_uri": "https://localhost:8080/"
        },
        "outputId": "cc479e60-a145-4c93-c6d1-43428f13e43b"
      },
      "execution_count": null,
      "outputs": [
        {
          "output_type": "stream",
          "name": "stdout",
          "text": [
            "Drive already mounted at /content/drive; to attempt to forcibly remount, call drive.mount(\"/content/drive\", force_remount=True).\n"
          ]
        }
      ]
    },
    {
      "cell_type": "code",
      "execution_count": null,
      "metadata": {
        "id": "OBETIaDWH6ms"
      },
      "outputs": [],
      "source": [
        "def get_image(path,max_count,step):\n",
        "    filepath = path\n",
        "    video = cv2.VideoCapture(filepath) #'' 사이에 사용할 비디오 파일의 경로 및 이름을 넣어주도록 함\n",
        "\n",
        "    if not video.isOpened():\n",
        "        print(\"Could not Open :\", filepath)\n",
        "        exit(0)\n",
        "        \n",
        "    length = int(video.get(cv2.CAP_PROP_FRAME_COUNT))\n",
        "    width = int(video.get(cv2.CAP_PROP_FRAME_WIDTH))\n",
        "    height = int(video.get(cv2.CAP_PROP_FRAME_HEIGHT))\n",
        "    fps = video.get(cv2.CAP_PROP_FPS)\n",
        "\n",
        "    print(\"length :\", length)\n",
        "    print(\"width :\", width)\n",
        "    print(\"height :\", height)\n",
        "    print(\"fps :\", fps)\n",
        " \n",
        " \n",
        "    count = 0\n",
        "    train_data=[]\n",
        "    while(video.isOpened()):\n",
        "        ret, image = video.read()\n",
        "        if not ret: break\n",
        "        if(int(video.get(1)) % (int(fps*step)) == 0):\n",
        "            count+=1\n",
        "            image=cv2.cvtColor(image,cv2.COLOR_BGR2RGB)\n",
        "            image=cv2.resize(image,(256,187))\n",
        "            # image=cv2.flip(image,0)\n",
        "            if image.max()>=2: result=image/225\n",
        "            else: result=image\n",
        "            train_data.append(np.array(result))\n",
        "            # print(image.shape)\n",
        "            # plt.imshow(image)\n",
        "            # plt.show()\n",
        "            # break\n",
        "            if max_count==-1: continue\n",
        "            if count==max_count+4: break\n",
        "    video.release()\n",
        "    return np.array(train_data[:-50])\n",
        "\n",
        "def pre_work(images):\n",
        "    step=30\n",
        "    image=[]\n",
        "    print(images.shape)\n",
        "    l=images.shape[0]\n",
        "    for i in range(l-(step-1)):\n",
        "        image.append(images[i:i+step])\n",
        "    return np.array(image)\n",
        "\n",
        "def make_label(x,l):\n",
        "    return np.zeros(l) if x==0 else np.ones(l)\n",
        "\n",
        "def make_label_grad(x,l):\n",
        "    label=np.zeros(l)\n",
        "    end=25\n",
        "    start=50\n",
        "    for i in range(l-(start-1),l-(end-1)):\n",
        "        label[i]=0.04*(i-(l-start))\n",
        "    for i in range(l-(end-1),l):\n",
        "        label[i]=1\n",
        "    # for i in range(l-(start-1),l):\n",
        "    #     label[i]=1\n",
        "    return label"
      ]
    },
    {
      "cell_type": "code",
      "source": [
        "import os\n",
        "dir_path = \"/content/drive/MyDrive/캡디 운전 동영상/반디컷\"\n",
        "file_list=[]\n",
        "for (root, directories, files) in os.walk(dir_path):\n",
        "    for file in files:\n",
        "        file_path = os.path.join(root, file)\n",
        "        file_list.append(file_path)\n",
        "        print(file_path)\n",
        "\n",
        "def make_data(titles,count=-1,step=0.1):\n",
        "    for title in titles:\n",
        "        train_image=get_image(f'{title}',count,step)\n",
        "        if len(train_image)<=55: return -1\n",
        "        train_image=pre_work(train_image)\n",
        "        train_label=make_label_grad(1,train_image.shape[0])\n",
        "        print(train_image.shape)\n",
        "        print(train_label)\n",
        "        train_images.append(train_image)\n",
        "        train_labels.append(train_label)\n",
        "    return 1\n",
        "# make_data(['sleep-night-giung','sleep-night-jun','sleep-night-moon','sleep-night-sung','sleep-sun-dad1','sleep-sun-dad2','wake-night-giung','wake-night-jun','wake-night-moon','wake-night-sung'],70)\n",
        "# target=[]\n",
        "# for i in range(1,26):\n",
        "#     target.append(str(i))"
      ],
      "metadata": {
        "id": "Q0lNYiYpV8sk",
        "colab": {
          "base_uri": "https://localhost:8080/"
        },
        "outputId": "4c0a3f02-1d74-4c59-a70c-fe5837e68270"
      },
      "execution_count": null,
      "outputs": [
        {
          "output_type": "stream",
          "name": "stdout",
          "text": [
            "/content/drive/MyDrive/캡디 운전 동영상/반디컷/8-1.mp4\n",
            "/content/drive/MyDrive/캡디 운전 동영상/반디컷/8-2.mp4\n",
            "/content/drive/MyDrive/캡디 운전 동영상/반디컷/8-3.mp4\n",
            "/content/drive/MyDrive/캡디 운전 동영상/반디컷/8-5.mp4\n",
            "/content/drive/MyDrive/캡디 운전 동영상/반디컷/8-7.mp4\n",
            "/content/drive/MyDrive/캡디 운전 동영상/반디컷/8-8.mp4\n",
            "/content/drive/MyDrive/캡디 운전 동영상/반디컷/8-11.mp4\n",
            "/content/drive/MyDrive/캡디 운전 동영상/반디컷/8-12.mp4\n",
            "/content/drive/MyDrive/캡디 운전 동영상/반디컷/8-13.mp4\n",
            "/content/drive/MyDrive/캡디 운전 동영상/반디컷/8-14.mp4\n",
            "/content/drive/MyDrive/캡디 운전 동영상/반디컷/8-15.mp4\n",
            "/content/drive/MyDrive/캡디 운전 동영상/반디컷/8-16.mp4\n",
            "/content/drive/MyDrive/캡디 운전 동영상/반디컷/8-17.mp4\n",
            "/content/drive/MyDrive/캡디 운전 동영상/반디컷/8-18.mp4\n",
            "/content/drive/MyDrive/캡디 운전 동영상/반디컷/8-19.mp4\n",
            "/content/drive/MyDrive/캡디 운전 동영상/반디컷/11-1.mp4\n",
            "/content/drive/MyDrive/캡디 운전 동영상/반디컷/11-2.mp4\n",
            "/content/drive/MyDrive/캡디 운전 동영상/반디컷/11-3.mp4\n",
            "/content/drive/MyDrive/캡디 운전 동영상/반디컷/11-4.mp4\n",
            "/content/drive/MyDrive/캡디 운전 동영상/반디컷/11-5.mp4\n",
            "/content/drive/MyDrive/캡디 운전 동영상/반디컷/11-6.mp4\n",
            "/content/drive/MyDrive/캡디 운전 동영상/반디컷/11-7.mp4\n",
            "/content/drive/MyDrive/캡디 운전 동영상/반디컷/11-8.mp4\n",
            "/content/drive/MyDrive/캡디 운전 동영상/반디컷/11-10.mp4\n",
            "/content/drive/MyDrive/캡디 운전 동영상/반디컷/11-11.mp4\n",
            "/content/drive/MyDrive/캡디 운전 동영상/반디컷/11-12.mp4\n",
            "/content/drive/MyDrive/캡디 운전 동영상/반디컷/11-13.mp4\n",
            "/content/drive/MyDrive/캡디 운전 동영상/반디컷/11-14.mp4\n",
            "/content/drive/MyDrive/캡디 운전 동영상/반디컷/11-15.mp4\n",
            "/content/drive/MyDrive/캡디 운전 동영상/반디컷/11-18.mp4\n",
            "/content/drive/MyDrive/캡디 운전 동영상/반디컷/11-19.mp4\n",
            "/content/drive/MyDrive/캡디 운전 동영상/반디컷/11-21.mp4\n",
            "/content/drive/MyDrive/캡디 운전 동영상/반디컷/11-22.mp4\n",
            "/content/drive/MyDrive/캡디 운전 동영상/반디컷/11-23.mp4\n",
            "/content/drive/MyDrive/캡디 운전 동영상/반디컷/11-24.mp4\n",
            "/content/drive/MyDrive/캡디 운전 동영상/반디컷/11-25.mp4\n",
            "/content/drive/MyDrive/캡디 운전 동영상/반디컷/17-1.mp4\n",
            "/content/drive/MyDrive/캡디 운전 동영상/반디컷/17-2.mp4\n",
            "/content/drive/MyDrive/캡디 운전 동영상/반디컷/17-3.mp4\n",
            "/content/drive/MyDrive/캡디 운전 동영상/반디컷/17-4.mp4\n",
            "/content/drive/MyDrive/캡디 운전 동영상/반디컷/17-5.mp4\n",
            "/content/drive/MyDrive/캡디 운전 동영상/반디컷/17-6.mp4\n",
            "/content/drive/MyDrive/캡디 운전 동영상/반디컷/17-7.mp4\n",
            "/content/drive/MyDrive/캡디 운전 동영상/반디컷/17-8.mp4\n",
            "/content/drive/MyDrive/캡디 운전 동영상/반디컷/17-9.mp4\n",
            "/content/drive/MyDrive/캡디 운전 동영상/반디컷/17-10.mp4\n",
            "/content/drive/MyDrive/캡디 운전 동영상/반디컷/17-12.mp4\n",
            "/content/drive/MyDrive/캡디 운전 동영상/반디컷/17-13.mp4\n",
            "/content/drive/MyDrive/캡디 운전 동영상/반디컷/17-14.mp4\n",
            "/content/drive/MyDrive/캡디 운전 동영상/반디컷/17-17.mp4\n",
            "/content/drive/MyDrive/캡디 운전 동영상/반디컷/17-18.mp4\n",
            "/content/drive/MyDrive/캡디 운전 동영상/반디컷/17-19.mp4\n",
            "/content/drive/MyDrive/캡디 운전 동영상/반디컷/18-1.mp4\n",
            "/content/drive/MyDrive/캡디 운전 동영상/반디컷/18-2.mp4\n",
            "/content/drive/MyDrive/캡디 운전 동영상/반디컷/18-3.mp4\n",
            "/content/drive/MyDrive/캡디 운전 동영상/반디컷/18-4.mp4\n",
            "/content/drive/MyDrive/캡디 운전 동영상/반디컷/18-6.mp4\n",
            "/content/drive/MyDrive/캡디 운전 동영상/반디컷/18-7.mp4\n",
            "/content/drive/MyDrive/캡디 운전 동영상/반디컷/18-8.mp4\n",
            "/content/drive/MyDrive/캡디 운전 동영상/반디컷/18-9.mp4\n",
            "/content/drive/MyDrive/캡디 운전 동영상/반디컷/18-10.mp4\n",
            "/content/drive/MyDrive/캡디 운전 동영상/반디컷/18-12.mp4\n",
            "/content/drive/MyDrive/캡디 운전 동영상/반디컷/18-13.mp4\n",
            "/content/drive/MyDrive/캡디 운전 동영상/반디컷/18-15.mp4\n",
            "/content/drive/MyDrive/캡디 운전 동영상/반디컷/18-16.mp4\n",
            "/content/drive/MyDrive/캡디 운전 동영상/반디컷/18-18.mp4\n",
            "/content/drive/MyDrive/캡디 운전 동영상/반디컷/18-19.mp4\n",
            "/content/drive/MyDrive/캡디 운전 동영상/반디컷/18-17.mp4\n"
          ]
        }
      ]
    },
    {
      "cell_type": "code",
      "execution_count": null,
      "metadata": {
        "id": "ylku894VMuhL",
        "colab": {
          "base_uri": "https://localhost:8080/"
        },
        "outputId": "8aa12938-3243-4134-cc78-d51a452186d9"
      },
      "outputs": [
        {
          "output_type": "stream",
          "name": "stdout",
          "text": [
            "Model: \"model_2\"\n",
            "_________________________________________________________________\n",
            " Layer (type)                Output Shape              Param #   \n",
            "=================================================================\n",
            " input_3 (InputLayer)        [(None, 30, 187, 256, 3)  0         \n",
            "                             ]                                   \n",
            "                                                                 \n",
            " time_distributed_100 (TimeD  (None, 30, 187, 256, 16)  448      \n",
            " istributed)                                                     \n",
            "                                                                 \n",
            " time_distributed_101 (TimeD  (None, 30, 187, 256, 16)  64       \n",
            " istributed)                                                     \n",
            "                                                                 \n",
            " time_distributed_102 (TimeD  (None, 30, 187, 256, 16)  0        \n",
            " istributed)                                                     \n",
            "                                                                 \n",
            " time_distributed_103 (TimeD  (None, 30, 187, 256, 16)  2320     \n",
            " istributed)                                                     \n",
            "                                                                 \n",
            " time_distributed_104 (TimeD  (None, 30, 187, 256, 16)  64       \n",
            " istributed)                                                     \n",
            "                                                                 \n",
            " time_distributed_105 (TimeD  (None, 30, 187, 256, 16)  0        \n",
            " istributed)                                                     \n",
            "                                                                 \n",
            " time_distributed_106 (TimeD  (None, 30, 93, 128, 16)  0         \n",
            " istributed)                                                     \n",
            "                                                                 \n",
            " time_distributed_107 (TimeD  (None, 30, 93, 128, 16)  0         \n",
            " istributed)                                                     \n",
            "                                                                 \n",
            " time_distributed_108 (TimeD  (None, 30, 93, 128, 32)  4640      \n",
            " istributed)                                                     \n",
            "                                                                 \n",
            " time_distributed_109 (TimeD  (None, 30, 93, 128, 32)  128       \n",
            " istributed)                                                     \n",
            "                                                                 \n",
            " time_distributed_110 (TimeD  (None, 30, 93, 128, 32)  0         \n",
            " istributed)                                                     \n",
            "                                                                 \n",
            " time_distributed_111 (TimeD  (None, 30, 93, 128, 32)  9248      \n",
            " istributed)                                                     \n",
            "                                                                 \n",
            " time_distributed_112 (TimeD  (None, 30, 93, 128, 32)  128       \n",
            " istributed)                                                     \n",
            "                                                                 \n",
            " time_distributed_113 (TimeD  (None, 30, 93, 128, 32)  0         \n",
            " istributed)                                                     \n",
            "                                                                 \n",
            " time_distributed_114 (TimeD  (None, 30, 46, 64, 32)   0         \n",
            " istributed)                                                     \n",
            "                                                                 \n",
            " time_distributed_115 (TimeD  (None, 30, 46, 64, 32)   0         \n",
            " istributed)                                                     \n",
            "                                                                 \n",
            " time_distributed_116 (TimeD  (None, 30, 46, 64, 64)   18496     \n",
            " istributed)                                                     \n",
            "                                                                 \n",
            " time_distributed_117 (TimeD  (None, 30, 46, 64, 64)   256       \n",
            " istributed)                                                     \n",
            "                                                                 \n",
            " time_distributed_118 (TimeD  (None, 30, 46, 64, 64)   0         \n",
            " istributed)                                                     \n",
            "                                                                 \n",
            " time_distributed_119 (TimeD  (None, 30, 46, 64, 64)   36928     \n",
            " istributed)                                                     \n",
            "                                                                 \n",
            " time_distributed_120 (TimeD  (None, 30, 46, 64, 64)   256       \n",
            " istributed)                                                     \n",
            "                                                                 \n",
            " time_distributed_121 (TimeD  (None, 30, 46, 64, 64)   0         \n",
            " istributed)                                                     \n",
            "                                                                 \n",
            " time_distributed_122 (TimeD  (None, 30, 46, 64, 64)   36928     \n",
            " istributed)                                                     \n",
            "                                                                 \n",
            " time_distributed_123 (TimeD  (None, 30, 46, 64, 64)   256       \n",
            " istributed)                                                     \n",
            "                                                                 \n",
            " time_distributed_124 (TimeD  (None, 30, 46, 64, 64)   0         \n",
            " istributed)                                                     \n",
            "                                                                 \n",
            " time_distributed_125 (TimeD  (None, 30, 23, 32, 64)   0         \n",
            " istributed)                                                     \n",
            "                                                                 \n",
            " time_distributed_126 (TimeD  (None, 30, 23, 32, 64)   0         \n",
            " istributed)                                                     \n",
            "                                                                 \n",
            " time_distributed_127 (TimeD  (None, 30, 23, 32, 128)  73856     \n",
            " istributed)                                                     \n",
            "                                                                 \n",
            " time_distributed_128 (TimeD  (None, 30, 23, 32, 128)  512       \n",
            " istributed)                                                     \n",
            "                                                                 \n",
            " time_distributed_129 (TimeD  (None, 30, 23, 32, 128)  0         \n",
            " istributed)                                                     \n",
            "                                                                 \n",
            " time_distributed_130 (TimeD  (None, 30, 23, 32, 128)  147584    \n",
            " istributed)                                                     \n",
            "                                                                 \n",
            " time_distributed_131 (TimeD  (None, 30, 23, 32, 128)  512       \n",
            " istributed)                                                     \n",
            "                                                                 \n",
            " time_distributed_132 (TimeD  (None, 30, 23, 32, 128)  0         \n",
            " istributed)                                                     \n",
            "                                                                 \n",
            " time_distributed_133 (TimeD  (None, 30, 23, 32, 128)  147584    \n",
            " istributed)                                                     \n",
            "                                                                 \n",
            " time_distributed_134 (TimeD  (None, 30, 23, 32, 128)  512       \n",
            " istributed)                                                     \n",
            "                                                                 \n",
            " time_distributed_135 (TimeD  (None, 30, 23, 32, 128)  0         \n",
            " istributed)                                                     \n",
            "                                                                 \n",
            " time_distributed_136 (TimeD  (None, 30, 11, 16, 128)  0         \n",
            " istributed)                                                     \n",
            "                                                                 \n",
            " time_distributed_137 (TimeD  (None, 30, 11, 16, 128)  0         \n",
            " istributed)                                                     \n",
            "                                                                 \n",
            " time_distributed_138 (TimeD  (None, 30, 11, 16, 256)  295168    \n",
            " istributed)                                                     \n",
            "                                                                 \n",
            " time_distributed_139 (TimeD  (None, 30, 11, 16, 256)  1024      \n",
            " istributed)                                                     \n",
            "                                                                 \n",
            " time_distributed_140 (TimeD  (None, 30, 11, 16, 256)  0         \n",
            " istributed)                                                     \n",
            "                                                                 \n",
            " time_distributed_141 (TimeD  (None, 30, 11, 16, 256)  590080    \n",
            " istributed)                                                     \n",
            "                                                                 \n",
            " time_distributed_142 (TimeD  (None, 30, 11, 16, 256)  1024      \n",
            " istributed)                                                     \n",
            "                                                                 \n",
            " time_distributed_143 (TimeD  (None, 30, 11, 16, 256)  0         \n",
            " istributed)                                                     \n",
            "                                                                 \n",
            " time_distributed_144 (TimeD  (None, 30, 11, 16, 256)  590080    \n",
            " istributed)                                                     \n",
            "                                                                 \n",
            " time_distributed_145 (TimeD  (None, 30, 11, 16, 256)  1024      \n",
            " istributed)                                                     \n",
            "                                                                 \n",
            " time_distributed_146 (TimeD  (None, 30, 11, 16, 256)  0         \n",
            " istributed)                                                     \n",
            "                                                                 \n",
            " time_distributed_147 (TimeD  (None, 30, 5, 8, 256)    0         \n",
            " istributed)                                                     \n",
            "                                                                 \n",
            " time_distributed_148 (TimeD  (None, 30, 5, 8, 256)    0         \n",
            " istributed)                                                     \n",
            "                                                                 \n",
            " time_distributed_149 (TimeD  (None, 30, 256)          0         \n",
            " istributed)                                                     \n",
            "                                                                 \n",
            " lstm_2 (LSTM)               (None, 256)               525312    \n",
            "                                                                 \n",
            " dense_2 (Dense)             (None, 1)                 257       \n",
            "                                                                 \n",
            "=================================================================\n",
            "Total params: 2,484,689\n",
            "Trainable params: 2,481,809\n",
            "Non-trainable params: 2,880\n",
            "_________________________________________________________________\n"
          ]
        }
      ],
      "source": [
        "from keras.layers import Dense, Input, Conv2D, Conv2DTranspose, Flatten, Reshape, MaxPool2D, GRU, GlobalAveragePooling2D,concatenate, LSTM, Flatten\n",
        "from keras.models import Model\n",
        "from keras.layers import BatchNormalization, Dropout, Activation, TimeDistributed\n",
        "\n",
        "def vgg_conv2d_block(x,channel):\n",
        "    x = TimeDistributed(Conv2D(channel, 3, padding=\"same\"))(x)\n",
        "    x = TimeDistributed(BatchNormalization())(x)\n",
        "    x = TimeDistributed(Activation(\"relu\"))(x)\n",
        "    return x\n",
        "\n",
        "def vgg_lstm_model():\n",
        "    input=Input(shape=(30,187,256,3))\n",
        "    c1 = vgg_conv2d_block(input, 16)\n",
        "    c1 = vgg_conv2d_block(c1, 16)\n",
        "    c1 = TimeDistributed(MaxPool2D(2))(c1)\n",
        "    c1 = TimeDistributed(Dropout(0.1))(c1)\n",
        "\n",
        "    c2 = vgg_conv2d_block(c1, 32)\n",
        "    c2 = vgg_conv2d_block(c2, 32)\n",
        "    c2 = TimeDistributed(MaxPool2D(2))(c2)\n",
        "    c2 = TimeDistributed(Dropout(0.1))(c2)\n",
        "\n",
        "    c3 = vgg_conv2d_block(c2, 64)\n",
        "    c3 = vgg_conv2d_block(c3, 64)\n",
        "    c3 = vgg_conv2d_block(c3, 64)\n",
        "    c3 = TimeDistributed(MaxPool2D(2))(c3)\n",
        "    c3 = TimeDistributed(Dropout(0.1))(c3)\n",
        "\n",
        "    c4 = vgg_conv2d_block(c3, 128)\n",
        "    c4 = vgg_conv2d_block(c4, 128)\n",
        "    c4 = vgg_conv2d_block(c4, 128)\n",
        "    c4 = TimeDistributed(MaxPool2D(2))(c4)\n",
        "    c4 = TimeDistributed(Dropout(0.1))(c4)\n",
        "\n",
        "    c5 = vgg_conv2d_block(c4, 256)\n",
        "    c5 = vgg_conv2d_block(c5, 256)\n",
        "    c5 = vgg_conv2d_block(c5, 256)\n",
        "    c5 = TimeDistributed(MaxPool2D(2))(c5)\n",
        "    c5 = TimeDistributed(Dropout(0.1))(c5)\n",
        "\n",
        "    embed=TimeDistributed(GlobalAveragePooling2D())(c5)\n",
        "    lstm=LSTM(256)(embed)\n",
        "    # dense=Dense(10,activation='relu')(lstm)\n",
        "    output=Dense(1)(lstm)\n",
        "\n",
        "    return Model(input,output)\n",
        "\n",
        "def conv2d_block(x, channel):\n",
        "    x = Conv2D(channel, 3, padding=\"same\")(x)\n",
        "    x = BatchNormalization()(x)\n",
        "    x = Activation(\"relu\")(x)\n",
        "    return x\n",
        "\n",
        "def image_embedding():\n",
        "    inputs=Input(shape=(187,256,3))\n",
        "    c1 = conv2d_block(inputs, 16)\n",
        "    c1 = conv2d_block(c1, 16)\n",
        "    p1 = MaxPool2D(2)(c1)\n",
        "    p1 = Dropout(0.1)(p1)\n",
        "\n",
        "    c2 = conv2d_block(p1, 32)\n",
        "    c2 = conv2d_block(c2, 32)\n",
        "    p2 = MaxPool2D(2)(c2)\n",
        "    p2 = Dropout(0.1)(p2)\n",
        "\n",
        "    c3 = conv2d_block(p2, 64)\n",
        "    c3 = conv2d_block(c3, 64)\n",
        "    c3 = conv2d_block(c3, 64)\n",
        "    p3 = MaxPool2D(2)(c3)\n",
        "    p3 = Dropout(0.1)(p3)\n",
        "\n",
        "    c4 = conv2d_block(p3, 128)\n",
        "    c4 = conv2d_block(c4, 128)\n",
        "    c4 = conv2d_block(c4, 128)\n",
        "    p4 = MaxPool2D(2)(c4)\n",
        "    p4 = Dropout(0.1)(p4)\n",
        "\n",
        "    c5 = conv2d_block(p4,256)\n",
        "\n",
        "    u6 = Conv2DTranspose(128, 2, 2, padding=\"valid\", output_padding=(1,0))(c5)\n",
        "    u6 = concatenate([u6, c4])\n",
        "    u6 = Dropout(0.1)(u6)\n",
        "    c6 = conv2d_block(u6, 128)\n",
        "\n",
        "    u7 = Conv2DTranspose(64, 2, 2)(c6)\n",
        "    u7 = concatenate([u7, c3])\n",
        "    u7 = Dropout(0.1)(u7)\n",
        "    c7 = conv2d_block(u7, 64)\n",
        "\n",
        "    u8 = Conv2DTranspose(32, 2, 2, padding=\"valid\", output_padding=(1,0))(c7)\n",
        "    u8 = concatenate([u8, c2])\n",
        "    u8 = Dropout(0.1)(u8)\n",
        "    c8 = conv2d_block(u8, 32)\n",
        "\n",
        "    u9 = Conv2DTranspose(16, 2, 2, padding=\"valid\", output_padding=(1,0))(c8)\n",
        "    u9 = concatenate([u9, c1])\n",
        "    u9 = Dropout(0.1)(u9)\n",
        "    c9 = conv2d_block(u9, 16)\n",
        "\n",
        "    outputs = Conv2D(3, 1, activation=\"sigmoid\")(c9)\n",
        "    return Model(inputs,outputs)\n",
        "\n",
        "def image_encoder():\n",
        "    inputs=Input(shape=(187,256,3))\n",
        "    c1 = conv2d_block(inputs, 16)\n",
        "    c1 = conv2d_block(c1, 16)\n",
        "    p1 = MaxPool2D(2)(c1)\n",
        "    p1 = Dropout(0.1)(p1)\n",
        "\n",
        "    c2 = conv2d_block(p1, 32)\n",
        "    c2 = conv2d_block(c2, 32)\n",
        "    p2 = MaxPool2D(2)(c2)\n",
        "    p2 = Dropout(0.1)(p2)\n",
        "\n",
        "    c3 = conv2d_block(p2, 64)\n",
        "    c3 = conv2d_block(c3, 64)\n",
        "    c3 = conv2d_block(c3, 64)\n",
        "    p3 = MaxPool2D(2)(c3)\n",
        "    p3 = Dropout(0.1)(p3)\n",
        "\n",
        "    c4 = conv2d_block(p3, 128)\n",
        "    c4 = conv2d_block(c4, 128)\n",
        "    c4 = conv2d_block(c4, 128)\n",
        "    p4 = MaxPool2D(2)(c4)\n",
        "    p4 = Dropout(0.1)(p4)\n",
        "\n",
        "    c5 = conv2d_block(p4,256)\n",
        "    output=GlobalAveragePooling2D()(c5)\n",
        "    return Model(inputs,output)\n",
        "\n",
        "def image_embedding_without_unet():\n",
        "    inputs=Input(shape=(187,256,3))\n",
        "    c1 = conv2d_block(inputs, 16)\n",
        "    c1 = conv2d_block(c1, 16)\n",
        "    p1 = MaxPool2D(2)(c1)\n",
        "    p1 = Dropout(0.1)(p1)\n",
        "\n",
        "    c2 = conv2d_block(p1, 32)\n",
        "    c2 = conv2d_block(c2, 32)\n",
        "    p2 = MaxPool2D(2)(c2)\n",
        "    p2 = Dropout(0.1)(p2)\n",
        "\n",
        "    c3 = conv2d_block(p2, 64)\n",
        "    c3 = conv2d_block(c3, 64)\n",
        "    c3 = conv2d_block(c3, 64)\n",
        "    p3 = MaxPool2D(2)(c3)\n",
        "    p3 = Dropout(0.1)(p3)\n",
        "\n",
        "    c4 = conv2d_block(p3, 128)\n",
        "    c4 = conv2d_block(c4, 128)\n",
        "    c4 = conv2d_block(c4, 128)\n",
        "    p4 = MaxPool2D(2)(c4)\n",
        "    p4 = Dropout(0.1)(p4)\n",
        "\n",
        "    c11 = conv2d_block(p4, 256)\n",
        "    c11 = conv2d_block(c11, 256)\n",
        "    c11 = conv2d_block(c11, 256)\n",
        "    p11 = MaxPool2D(2)(c11)\n",
        "    p11 = Dropout(0.1)(p11)\n",
        "\n",
        "    c5 = conv2d_block(p11,512)\n",
        "\n",
        "    t1=GlobalAveragePooling2D()(c5)\n",
        "    t1=Reshape((1,1,512))(t1)\n",
        "\n",
        "    u10 = Conv2DTranspose(512, 2, 2, padding=\"valid\", output_padding=(0,0))(t1)\n",
        "    u10 = Dropout(0.1)(u10)\n",
        "    c10 = conv2d_block(u10, 512)\n",
        "    c10=Conv2D(512,3,padding='same',strides=(2,1))(c10)\n",
        "\n",
        "    u12 = Conv2DTranspose(512, 2, 2, padding=\"valid\", output_padding=(0,0))(c10)\n",
        "    u12 = Dropout(0.1)(u12)\n",
        "    c12 = conv2d_block(u12, 512)\n",
        "\n",
        "    u13 = Conv2DTranspose(256, 2, 2, padding=\"valid\", output_padding=(1,0))(c12)\n",
        "    u13 = Dropout(0.1)(u13)\n",
        "    c13 = conv2d_block(u13, 256)\n",
        "\n",
        "    u14 = Conv2DTranspose(128, 2, 2, padding=\"valid\", output_padding=(1,0))(c13)\n",
        "    u14 = Dropout(0.1)(u14)\n",
        "    c14 = conv2d_block(u14, 128)\n",
        "\n",
        "    u7 = Conv2DTranspose(64, 2, 2, padding=\"valid\", output_padding=(1,0))(c14)\n",
        "    u7 = Dropout(0.1)(u7)\n",
        "    c7 = conv2d_block(u7, 64)\n",
        "\n",
        "    u8 = Conv2DTranspose(32, 2, 2, padding=\"valid\", output_padding=(0,0))(c7)\n",
        "    u8 = Dropout(0.1)(u8)\n",
        "    c8 = conv2d_block(u8, 32)\n",
        "\n",
        "    u9 = Conv2DTranspose(16, 2, 2, padding=\"valid\", output_padding=(1,0))(c8)\n",
        "    u9 = Dropout(0.1)(u9)\n",
        "    c9 = conv2d_block(u9, 16)\n",
        "\n",
        "    u15 = Conv2DTranspose(16, 2, 2, padding=\"valid\", output_padding=(1,0))(c9)\n",
        "    u15 = Dropout(0.1)(u15)\n",
        "    c15= conv2d_block(u15, 16)\n",
        "\n",
        "    outputs = Conv2D(3, 1, activation=\"sigmoid\")(c15)\n",
        "    return Model(inputs,outputs)\n",
        "\n",
        "model=vgg_lstm_model()\n",
        "model.summary()\n"
      ]
    },
    {
      "cell_type": "code",
      "source": [
        "model=load_model('./drive/MyDrive/capdi/acci_pred2-14.h5')\n",
        "# model.load_weights(checkpoint_path)"
      ],
      "metadata": {
        "id": "9K3Y9xXlbx1P"
      },
      "execution_count": null,
      "outputs": []
    },
    {
      "cell_type": "code",
      "source": [
        "class mse(tf.keras.losses.Loss):\n",
        "\n",
        "  def call(self, y_true, y_pred):\n",
        "    err = y_true - y_pred\n",
        "    loss = tf.math.reduce_mean(tf.math.square(err))\n",
        "\n",
        "    return loss\n",
        "loss=mse()"
      ],
      "metadata": {
        "id": "OHy-mVuZfCed"
      },
      "execution_count": null,
      "outputs": []
    },
    {
      "cell_type": "code",
      "execution_count": null,
      "metadata": {
        "id": "ejdogdatMw46"
      },
      "outputs": [],
      "source": [
        "model.compile(loss='mse', optimizer=tf.keras.optimizers.Adam(), metrics=['mse'])"
      ]
    },
    {
      "cell_type": "code",
      "execution_count": null,
      "metadata": {
        "id": "dYK05D9Pgm9s"
      },
      "outputs": [],
      "source": [
        "tf.config.experimental_run_functions_eagerly(True)"
      ]
    },
    {
      "cell_type": "code",
      "source": [
        "print(train_images.shape)\n",
        "print(train_labels.shape)"
      ],
      "metadata": {
        "id": "NPhSeSawsrVd"
      },
      "execution_count": null,
      "outputs": []
    },
    {
      "cell_type": "code",
      "source": [
        "import random\n",
        "train_images=np.array(train_images)\n",
        "train_labels=np.array(train_labels)\n",
        "print(train_images.shape)\n",
        "print(train_labels.shape)\n",
        "\n",
        "\n",
        "train_images=np.concatenate(train_images,axis=0)\n",
        "train_labels=np.concatenate(train_labels,axis=0)\n",
        "\n"
      ],
      "metadata": {
        "id": "61SpjHCmFbm4"
      },
      "execution_count": null,
      "outputs": []
    },
    {
      "cell_type": "code",
      "source": [
        "test_images=np.concatenate([train_images[48:96],train_images[144:192]],axis=0)\n",
        "test_labels=np.concatenate([train_labels[48:96],train_labels[144:192]],axis=0)\n",
        "train_images=np.concatenate([train_images[0:48],train_images[96:144]],axis=0)\n",
        "train_labels=np.concatenate([train_labels[0:48],train_labels[96:144]],axis=0)"
      ],
      "metadata": {
        "id": "XV-wRoFVcD3w"
      },
      "execution_count": null,
      "outputs": []
    },
    {
      "cell_type": "code",
      "source": [
        "train_images.shape\n",
        "plt.imshow(train_images[50,0,...])\n",
        "plt.show()"
      ],
      "metadata": {
        "id": "9OlOIaSOc3Nl"
      },
      "execution_count": null,
      "outputs": []
    },
    {
      "cell_type": "code",
      "source": [
        "shuffle_list=list(zip(train_images,train_labels))\n",
        "random.shuffle(shuffle_list)\n",
        "shuffle_list=np.array(shuffle_list)\n",
        "\n",
        "train_images=shuffle_list[:,0]\n",
        "train_labels=shuffle_list[:,1]\n",
        "\n",
        "train_images=np.array(train_images.tolist())\n",
        "train_labels=np.array(train_labels.tolist())\n",
        "print(train_images.shape)\n",
        "print(train_labels.shape)"
      ],
      "metadata": {
        "id": "Oic2MuhyY2v_"
      },
      "execution_count": null,
      "outputs": []
    },
    {
      "cell_type": "code",
      "source": [
        "print(train_images.shape)\n",
        "print(train_labels.shape)"
      ],
      "metadata": {
        "id": "kbu0F7nTJGWc",
        "colab": {
          "base_uri": "https://localhost:8080/"
        },
        "outputId": "ba1ed8f0-1fa8-424b-bd15-f679cd5a0a10"
      },
      "execution_count": null,
      "outputs": [
        {
          "output_type": "stream",
          "name": "stdout",
          "text": [
            "(648, 5, 187, 256, 3)\n",
            "(648,)\n"
          ]
        }
      ]
    },
    {
      "cell_type": "code",
      "source": [
        "print(train_images[0].shape)\n",
        "print(len(train_images))"
      ],
      "metadata": {
        "id": "PY7OQtMCHl2b"
      },
      "execution_count": null,
      "outputs": []
    },
    {
      "cell_type": "code",
      "execution_count": null,
      "metadata": {
        "id": "qFRmtrUEfAQj",
        "colab": {
          "base_uri": "https://localhost:8080/",
          "height": 517
        },
        "outputId": "0780fbad-6e97-481c-d4cf-5867c01efca1"
      },
      "outputs": [
        {
          "output_type": "error",
          "ename": "InternalError",
          "evalue": "ignored",
          "traceback": [
            "\u001b[0;31m---------------------------------------------------------------------------\u001b[0m",
            "\u001b[0;31mInternalError\u001b[0m                             Traceback (most recent call last)",
            "\u001b[0;32m<ipython-input-16-9c009d93d6b0>\u001b[0m in \u001b[0;36m<module>\u001b[0;34m\u001b[0m\n\u001b[1;32m      1\u001b[0m \u001b[0;31m# hist=model.fit(train_images,train_labels,batch_size=10,epochs=25,verbose=1)\u001b[0m\u001b[0;34m\u001b[0m\u001b[0;34m\u001b[0m\u001b[0;34m\u001b[0m\u001b[0m\n\u001b[0;32m----> 2\u001b[0;31m \u001b[0mhist\u001b[0m\u001b[0;34m=\u001b[0m\u001b[0mmodel\u001b[0m\u001b[0;34m.\u001b[0m\u001b[0mfit\u001b[0m\u001b[0;34m(\u001b[0m\u001b[0mtrain_images\u001b[0m\u001b[0;34m,\u001b[0m\u001b[0mtrain_labels\u001b[0m\u001b[0;34m,\u001b[0m\u001b[0mbatch_size\u001b[0m\u001b[0;34m=\u001b[0m\u001b[0;36m10\u001b[0m\u001b[0;34m,\u001b[0m\u001b[0mepochs\u001b[0m\u001b[0;34m=\u001b[0m\u001b[0;36m25\u001b[0m\u001b[0;34m,\u001b[0m\u001b[0mverbose\u001b[0m\u001b[0;34m=\u001b[0m\u001b[0;36m1\u001b[0m\u001b[0;34m)\u001b[0m\u001b[0;34m\u001b[0m\u001b[0;34m\u001b[0m\u001b[0m\n\u001b[0m",
            "\u001b[0;32m/usr/local/lib/python3.7/dist-packages/keras/utils/traceback_utils.py\u001b[0m in \u001b[0;36merror_handler\u001b[0;34m(*args, **kwargs)\u001b[0m\n\u001b[1;32m     65\u001b[0m     \u001b[0;32mexcept\u001b[0m \u001b[0mException\u001b[0m \u001b[0;32mas\u001b[0m \u001b[0me\u001b[0m\u001b[0;34m:\u001b[0m  \u001b[0;31m# pylint: disable=broad-except\u001b[0m\u001b[0;34m\u001b[0m\u001b[0;34m\u001b[0m\u001b[0m\n\u001b[1;32m     66\u001b[0m       \u001b[0mfiltered_tb\u001b[0m \u001b[0;34m=\u001b[0m \u001b[0m_process_traceback_frames\u001b[0m\u001b[0;34m(\u001b[0m\u001b[0me\u001b[0m\u001b[0;34m.\u001b[0m\u001b[0m__traceback__\u001b[0m\u001b[0;34m)\u001b[0m\u001b[0;34m\u001b[0m\u001b[0;34m\u001b[0m\u001b[0m\n\u001b[0;32m---> 67\u001b[0;31m       \u001b[0;32mraise\u001b[0m \u001b[0me\u001b[0m\u001b[0;34m.\u001b[0m\u001b[0mwith_traceback\u001b[0m\u001b[0;34m(\u001b[0m\u001b[0mfiltered_tb\u001b[0m\u001b[0;34m)\u001b[0m \u001b[0;32mfrom\u001b[0m \u001b[0;32mNone\u001b[0m\u001b[0;34m\u001b[0m\u001b[0;34m\u001b[0m\u001b[0m\n\u001b[0m\u001b[1;32m     68\u001b[0m     \u001b[0;32mfinally\u001b[0m\u001b[0;34m:\u001b[0m\u001b[0;34m\u001b[0m\u001b[0;34m\u001b[0m\u001b[0m\n\u001b[1;32m     69\u001b[0m       \u001b[0;32mdel\u001b[0m \u001b[0mfiltered_tb\u001b[0m\u001b[0;34m\u001b[0m\u001b[0;34m\u001b[0m\u001b[0m\n",
            "\u001b[0;32m/usr/local/lib/python3.7/dist-packages/tensorflow/python/framework/constant_op.py\u001b[0m in \u001b[0;36mconvert_to_eager_tensor\u001b[0;34m(value, ctx, dtype)\u001b[0m\n\u001b[1;32m    100\u001b[0m       \u001b[0mdtype\u001b[0m \u001b[0;34m=\u001b[0m \u001b[0mdtypes\u001b[0m\u001b[0;34m.\u001b[0m\u001b[0mas_dtype\u001b[0m\u001b[0;34m(\u001b[0m\u001b[0mdtype\u001b[0m\u001b[0;34m)\u001b[0m\u001b[0;34m.\u001b[0m\u001b[0mas_datatype_enum\u001b[0m\u001b[0;34m\u001b[0m\u001b[0;34m\u001b[0m\u001b[0m\n\u001b[1;32m    101\u001b[0m   \u001b[0mctx\u001b[0m\u001b[0;34m.\u001b[0m\u001b[0mensure_initialized\u001b[0m\u001b[0;34m(\u001b[0m\u001b[0;34m)\u001b[0m\u001b[0;34m\u001b[0m\u001b[0;34m\u001b[0m\u001b[0m\n\u001b[0;32m--> 102\u001b[0;31m   \u001b[0;32mreturn\u001b[0m \u001b[0mops\u001b[0m\u001b[0;34m.\u001b[0m\u001b[0mEagerTensor\u001b[0m\u001b[0;34m(\u001b[0m\u001b[0mvalue\u001b[0m\u001b[0;34m,\u001b[0m \u001b[0mctx\u001b[0m\u001b[0;34m.\u001b[0m\u001b[0mdevice_name\u001b[0m\u001b[0;34m,\u001b[0m \u001b[0mdtype\u001b[0m\u001b[0;34m)\u001b[0m\u001b[0;34m\u001b[0m\u001b[0;34m\u001b[0m\u001b[0m\n\u001b[0m\u001b[1;32m    103\u001b[0m \u001b[0;34m\u001b[0m\u001b[0m\n\u001b[1;32m    104\u001b[0m \u001b[0;34m\u001b[0m\u001b[0m\n",
            "\u001b[0;31mInternalError\u001b[0m: Failed copying input tensor from /job:localhost/replica:0/task:0/device:CPU:0 to /job:localhost/replica:0/task:0/device:GPU:0 in order to run _EagerConst: Dst tensor is not initialized."
          ]
        }
      ],
      "source": [
        "# hist=model.fit(train_images,train_labels,batch_size=10,epochs=25,verbose=1)\n",
        "hist=model.fit(train_images,train_labels,batch_size=10,epochs=25,verbose=1)"
      ]
    },
    {
      "cell_type": "code",
      "execution_count": null,
      "metadata": {
        "id": "m-OE4zm4sbYR"
      },
      "outputs": [],
      "source": [
        "print(train_images.shape)\n",
        "pred=[]\n",
        "for image in train_images:\n",
        "    # print(np.array([image]).shape)\n",
        "    plt.imshow(image[-1])\n",
        "    plt.show()\n",
        "    print(model.predict(np.array([image])))"
      ]
    },
    {
      "cell_type": "code",
      "execution_count": null,
      "metadata": {
        "colab": {
          "base_uri": "https://localhost:8080/"
        },
        "id": "KPZMaM7mskLA",
        "outputId": "00fdc8dc-0c0c-4ea6-cd8a-a6aca2965528"
      },
      "outputs": [
        {
          "output_type": "stream",
          "name": "stdout",
          "text": [
            "[array([[0.59178656]], dtype=float32), array([[0.59178656]], dtype=float32), array([[0.59178656]], dtype=float32), array([[0.59178656]], dtype=float32), array([[0.59178656]], dtype=float32), array([[0.59178656]], dtype=float32), array([[0.59178656]], dtype=float32), array([[0.59178656]], dtype=float32), array([[0.59178656]], dtype=float32), array([[0.59178656]], dtype=float32), array([[0.59178656]], dtype=float32), array([[0.59178656]], dtype=float32), array([[0.59178656]], dtype=float32), array([[0.59178656]], dtype=float32), array([[0.59178656]], dtype=float32), array([[0.59178656]], dtype=float32), array([[0.59178656]], dtype=float32), array([[0.59178656]], dtype=float32), array([[0.59178656]], dtype=float32), array([[0.59178656]], dtype=float32), array([[0.59178656]], dtype=float32), array([[0.59178656]], dtype=float32), array([[0.59178656]], dtype=float32), array([[0.59178656]], dtype=float32), array([[0.59178656]], dtype=float32), array([[0.59178656]], dtype=float32), array([[0.59178656]], dtype=float32), array([[0.59178656]], dtype=float32), array([[0.59178656]], dtype=float32), array([[0.59178656]], dtype=float32), array([[0.59178656]], dtype=float32), array([[0.59178656]], dtype=float32), array([[0.59178656]], dtype=float32), array([[0.59178656]], dtype=float32), array([[0.59178656]], dtype=float32), array([[0.59178656]], dtype=float32), array([[0.59178656]], dtype=float32), array([[0.59178656]], dtype=float32), array([[0.59178656]], dtype=float32), array([[0.59178656]], dtype=float32)]\n"
          ]
        }
      ],
      "source": [
        "# plt.imshow(pred[0])\n",
        "# plt.show()\n",
        "# print(pred.shape)\n",
        "# plt.plot(pred.reshape(-1))\n",
        "# plt.show()\n",
        "# plt.plot(train_labels)\n",
        "# plt.show()\n",
        "# plt.imshow(train_images[1,0,...])\n",
        "# plt.show()\n",
        "print(pred)\n",
        "# plt.plot(pred)"
      ]
    },
    {
      "cell_type": "code",
      "source": [
        "model.evaluate(train_images,train_labels)"
      ],
      "metadata": {
        "id": "_ZOLf2gVNaXL"
      },
      "execution_count": null,
      "outputs": []
    },
    {
      "cell_type": "code",
      "execution_count": null,
      "metadata": {
        "id": "kDfVR_gN5smN"
      },
      "outputs": [],
      "source": [
        "model.save('./drive/MyDrive/capdi/acci_pred2.h5')"
      ]
    },
    {
      "cell_type": "code",
      "source": [
        "model=load_model('./drive/MyDrive/capdi/auto.h5')"
      ],
      "metadata": {
        "id": "HYEDZXEBiJ2O"
      },
      "execution_count": null,
      "outputs": []
    },
    {
      "cell_type": "code",
      "source": [
        "fine_model=load_model('./drive/MyDrive/capdi/fine-vgg-lstm.h5')"
      ],
      "metadata": {
        "id": "GSYsJ42f4c-V"
      },
      "execution_count": null,
      "outputs": []
    },
    {
      "cell_type": "code",
      "source": [
        "# print(last_layer.output.shape)\n",
        "weight=model.get_weights()"
      ],
      "metadata": {
        "id": "2fsLUBBEiQke"
      },
      "execution_count": null,
      "outputs": []
    },
    {
      "cell_type": "code",
      "source": [
        "fine_model.summary()"
      ],
      "metadata": {
        "id": "wU8O2xf9uFZY"
      },
      "execution_count": null,
      "outputs": []
    },
    {
      "cell_type": "code",
      "source": [
        "pre_weight=fine_model.get_weights()\n",
        "pre_weight[:66]=weight[:66]\n",
        "fine_model.set_weights(pre_weight)"
      ],
      "metadata": {
        "id": "YKljtDSbrWmQ"
      },
      "execution_count": null,
      "outputs": []
    },
    {
      "cell_type": "code",
      "source": [
        "fine_model.compile(loss='mse', optimizer='adam', metrics=['accuracy'])\n",
        "# fine_model.save('fine-vgg-lstm2.h5')"
      ],
      "metadata": {
        "id": "m27XuCVsrdmP",
        "colab": {
          "base_uri": "https://localhost:8080/",
          "height": 241
        },
        "outputId": "7506ea40-343c-4fe7-8bfa-bd07a33f009c"
      },
      "execution_count": null,
      "outputs": [
        {
          "output_type": "error",
          "ename": "NameError",
          "evalue": "ignored",
          "traceback": [
            "\u001b[0;31m---------------------------------------------------------------------------\u001b[0m",
            "\u001b[0;31mNameError\u001b[0m                                 Traceback (most recent call last)",
            "\u001b[0;32m<ipython-input-8-81dbdd28dd40>\u001b[0m in \u001b[0;36m<module>\u001b[0;34m\u001b[0m\n\u001b[0;32m----> 1\u001b[0;31m \u001b[0mfine_model\u001b[0m\u001b[0;34m.\u001b[0m\u001b[0mcompile\u001b[0m\u001b[0;34m(\u001b[0m\u001b[0mloss\u001b[0m\u001b[0;34m=\u001b[0m\u001b[0;34m'mse'\u001b[0m\u001b[0;34m,\u001b[0m \u001b[0moptimizer\u001b[0m\u001b[0;34m=\u001b[0m\u001b[0;34m'adam'\u001b[0m\u001b[0;34m,\u001b[0m \u001b[0mmetrics\u001b[0m\u001b[0;34m=\u001b[0m\u001b[0;34m[\u001b[0m\u001b[0;34m'accuracy'\u001b[0m\u001b[0;34m]\u001b[0m\u001b[0;34m)\u001b[0m\u001b[0;34m\u001b[0m\u001b[0;34m\u001b[0m\u001b[0m\n\u001b[0m\u001b[1;32m      2\u001b[0m \u001b[0;31m# fine_model.save('fine-vgg-lstm2.h5')\u001b[0m\u001b[0;34m\u001b[0m\u001b[0;34m\u001b[0m\u001b[0;34m\u001b[0m\u001b[0m\n",
            "\u001b[0;31mNameError\u001b[0m: name 'fine_model' is not defined"
          ]
        }
      ]
    },
    {
      "cell_type": "code",
      "source": [
        "hist=fine_model.fit(train_images,train_labels,batch_size=10,epochs=25,verbose=1)"
      ],
      "metadata": {
        "id": "2QI4InjCr6zB"
      },
      "execution_count": null,
      "outputs": []
    },
    {
      "cell_type": "code",
      "source": [
        "model.save('./drive/MyDrive/capdi/acci_pred2.h5')"
      ],
      "metadata": {
        "id": "7MP9rrvzx3Z5"
      },
      "execution_count": null,
      "outputs": []
    },
    {
      "cell_type": "code",
      "source": [
        "pred=fine_model.predict(train_images)"
      ],
      "metadata": {
        "id": "2VPypyJ4xWKB"
      },
      "execution_count": null,
      "outputs": []
    },
    {
      "cell_type": "code",
      "source": [
        "plt.plot(pred.reshape(-1))\n",
        "plt.show()"
      ],
      "metadata": {
        "id": "0rfLoxfyxew5"
      },
      "execution_count": null,
      "outputs": []
    },
    {
      "cell_type": "code",
      "source": [
        "pred=fine_model.evaluate(train_images,train_labels)"
      ],
      "metadata": {
        "id": "nYRlETxgxmsY"
      },
      "execution_count": null,
      "outputs": []
    },
    {
      "cell_type": "code",
      "source": [
        "for i,target in enumerate(file_list[2:3]):\n",
        "    # train_images=[]\n",
        "    # train_labels=[]\n",
        "    # data_set=[]\n",
        "    # ok=make_data([target],600,0.1)\n",
        "    # if ok==-1:\n",
        "    #     print(\"errrrrr \"+target)\n",
        "    #     continue\n",
        "    # train_images=np.array(train_images)\n",
        "    # train_labels=np.array(train_labels)\n",
        "    # train_images=np.concatenate(train_images,axis=0)\n",
        "    # train_labels=np.concatenate(train_labels,axis=0)\n",
        "    # checkpoint_path = \"training_8/cp-\"+str(i)+\"-{epoch:04d}.ckpt\"\n",
        "    # checkpoint_dir = os.path.dirname(checkpoint_path)#previoulsy, checkpoint_path = \"training_1/cp.ckpt\"\n",
        "    # cp_callback = tf.keras.callbacks.ModelCheckpoint(filepath=checkpoint_path,\n",
        "    #                                 save_weights_only=True,\n",
        "    #                                 verbose=1,period=5)# Train the model with the new callback\n",
        "    hist=model.fit(train_images[...],train_labels[...],batch_size=2,epochs=10,verbose=1)\n",
        "    # model.save('./drive/MyDrive/capdi/acci_pred4-'+-str(i)+'.h5')"
      ],
      "metadata": {
        "colab": {
          "base_uri": "https://localhost:8080/"
        },
        "id": "KG6sCmb0RkYA",
        "outputId": "104b6fe6-b175-44ef-d833-b0a72988d48f"
      },
      "execution_count": null,
      "outputs": [
        {
          "output_type": "stream",
          "name": "stdout",
          "text": [
            "Epoch 1/10\n",
            "31/31 [==============================] - 10s 327ms/step - loss: 0.0114 - mse: 0.0114\n",
            "Epoch 2/10\n",
            "31/31 [==============================] - 10s 317ms/step - loss: 0.0112 - mse: 0.0112\n",
            "Epoch 3/10\n",
            "31/31 [==============================] - 9s 306ms/step - loss: 0.0083 - mse: 0.0083\n",
            "Epoch 4/10\n",
            "31/31 [==============================] - 9s 306ms/step - loss: 0.0090 - mse: 0.0090\n",
            "Epoch 5/10\n",
            "31/31 [==============================] - 9s 306ms/step - loss: 0.0079 - mse: 0.0079\n",
            "Epoch 6/10\n",
            "31/31 [==============================] - 9s 302ms/step - loss: 0.0079 - mse: 0.0079\n",
            "Epoch 7/10\n",
            "31/31 [==============================] - 9s 302ms/step - loss: 0.0053 - mse: 0.0053\n",
            "Epoch 8/10\n",
            "31/31 [==============================] - 9s 304ms/step - loss: 0.0047 - mse: 0.0047\n",
            "Epoch 9/10\n",
            "31/31 [==============================] - 9s 305ms/step - loss: 0.0056 - mse: 0.0056\n",
            "Epoch 10/10\n",
            "31/31 [==============================] - 9s 305ms/step - loss: 0.0044 - mse: 0.0044\n"
          ]
        }
      ]
    },
    {
      "cell_type": "code",
      "source": [
        "model.save('./drive/MyDrive/capdi/acci_pred2.h5')"
      ],
      "metadata": {
        "id": "o2nUfhEP017W"
      },
      "execution_count": null,
      "outputs": []
    },
    {
      "cell_type": "code",
      "source": [
        "for target in file_list[2:3]:\n",
        "    # train_images=[]\n",
        "    # train_labels=[]\n",
        "    # data_set=[]\n",
        "    # ok=make_data([target],600,0.1)\n",
        "    # if ok==-1:\n",
        "    #     print(\"errrrrr \"+target)\n",
        "    #     continue\n",
        "    # train_images=np.array(train_images)\n",
        "    # train_labels=np.array(train_labels)\n",
        "    # train_images=np.concatenate(train_images,axis=0)\n",
        "    # train_labels=np.concatenate(train_labels,axis=0)\n",
        "    # print(train_images.shape)\n",
        "    # pred=[]\n",
        "    for i, image in enumerate(train_images):\n",
        "        # print(np.array([image]).shape)\n",
        "        # plt.imshow(image[-1])\n",
        "        # plt.show()\n",
        "        # break\n",
        "        print(train_labels[i],model.predict(np.array([image])))"
      ],
      "metadata": {
        "colab": {
          "base_uri": "https://localhost:8080/"
        },
        "id": "KlXWns_XeKWK",
        "outputId": "d6201a92-a72f-45a0-b306-ec1820b6d953"
      },
      "execution_count": null,
      "outputs": [
        {
          "output_type": "stream",
          "name": "stdout",
          "text": [
            "1/1 [==============================] - 0s 103ms/step\n",
            "0.0 [[0.09817733]]\n",
            "1/1 [==============================] - 0s 98ms/step\n",
            "0.0 [[0.09266242]]\n",
            "1/1 [==============================] - 0s 111ms/step\n",
            "0.0 [[0.07874554]]\n",
            "1/1 [==============================] - 0s 103ms/step\n",
            "0.0 [[0.07108986]]\n",
            "1/1 [==============================] - 0s 102ms/step\n",
            "0.0 [[0.06724118]]\n",
            "1/1 [==============================] - 0s 95ms/step\n",
            "0.0 [[0.07629471]]\n",
            "1/1 [==============================] - 0s 99ms/step\n",
            "0.0 [[0.08710367]]\n",
            "1/1 [==============================] - 0s 102ms/step\n",
            "0.0 [[0.09047518]]\n",
            "1/1 [==============================] - 0s 94ms/step\n",
            "0.0 [[0.09871182]]\n",
            "1/1 [==============================] - 0s 95ms/step\n",
            "0.0 [[0.10559178]]\n",
            "1/1 [==============================] - 0s 95ms/step\n",
            "0.0 [[0.10061308]]\n",
            "1/1 [==============================] - 0s 95ms/step\n",
            "0.0 [[0.10912535]]\n",
            "1/1 [==============================] - 0s 97ms/step\n",
            "0.04 [[0.1252557]]\n",
            "1/1 [==============================] - 0s 97ms/step\n",
            "0.08 [[0.14728141]]\n",
            "1/1 [==============================] - 0s 113ms/step\n",
            "0.12 [[0.17897075]]\n",
            "1/1 [==============================] - 0s 105ms/step\n",
            "0.16 [[0.199862]]\n",
            "1/1 [==============================] - 0s 101ms/step\n",
            "0.2 [[0.2319867]]\n",
            "1/1 [==============================] - 0s 102ms/step\n",
            "0.24 [[0.25229338]]\n",
            "1/1 [==============================] - 0s 115ms/step\n",
            "0.28 [[0.29942313]]\n",
            "1/1 [==============================] - 0s 114ms/step\n",
            "0.32 [[0.3502474]]\n",
            "1/1 [==============================] - 0s 97ms/step\n",
            "0.36 [[0.3947997]]\n",
            "1/1 [==============================] - 0s 104ms/step\n",
            "0.4 [[0.432798]]\n",
            "1/1 [==============================] - 0s 94ms/step\n",
            "0.44 [[0.46922138]]\n",
            "1/1 [==============================] - 0s 106ms/step\n",
            "0.48 [[0.48794433]]\n",
            "1/1 [==============================] - 0s 99ms/step\n",
            "0.52 [[0.53012085]]\n",
            "1/1 [==============================] - 0s 98ms/step\n",
            "0.56 [[0.58354324]]\n",
            "1/1 [==============================] - 0s 100ms/step\n",
            "0.6 [[0.641828]]\n",
            "1/1 [==============================] - 0s 99ms/step\n",
            "0.64 [[0.731403]]\n",
            "1/1 [==============================] - 0s 101ms/step\n",
            "0.68 [[0.7828718]]\n",
            "1/1 [==============================] - 0s 95ms/step\n",
            "0.72 [[0.831137]]\n",
            "1/1 [==============================] - 0s 105ms/step\n",
            "0.76 [[0.878813]]\n",
            "1/1 [==============================] - 0s 97ms/step\n",
            "0.8 [[0.92987245]]\n",
            "1/1 [==============================] - 0s 96ms/step\n",
            "0.84 [[0.9741481]]\n",
            "1/1 [==============================] - 0s 104ms/step\n",
            "0.88 [[1.0031786]]\n",
            "1/1 [==============================] - 0s 98ms/step\n",
            "0.92 [[1.023566]]\n",
            "1/1 [==============================] - 0s 104ms/step\n",
            "0.96 [[1.0368272]]\n",
            "1/1 [==============================] - 0s 97ms/step\n",
            "1.0 [[1.0570165]]\n",
            "1/1 [==============================] - 0s 98ms/step\n",
            "1.0 [[1.0537728]]\n",
            "1/1 [==============================] - 0s 102ms/step\n",
            "1.0 [[1.059896]]\n",
            "1/1 [==============================] - 0s 114ms/step\n",
            "1.0 [[1.0636892]]\n",
            "1/1 [==============================] - 0s 100ms/step\n",
            "1.0 [[1.0639924]]\n",
            "1/1 [==============================] - 0s 98ms/step\n",
            "1.0 [[1.0694802]]\n",
            "1/1 [==============================] - 0s 110ms/step\n",
            "1.0 [[1.0679519]]\n",
            "1/1 [==============================] - 0s 99ms/step\n",
            "1.0 [[1.0630671]]\n",
            "1/1 [==============================] - 0s 95ms/step\n",
            "1.0 [[1.068225]]\n",
            "1/1 [==============================] - 0s 101ms/step\n",
            "1.0 [[1.0616711]]\n",
            "1/1 [==============================] - 0s 113ms/step\n",
            "1.0 [[1.0627991]]\n",
            "1/1 [==============================] - 0s 96ms/step\n",
            "1.0 [[1.0576075]]\n",
            "1/1 [==============================] - 0s 99ms/step\n",
            "1.0 [[1.0747094]]\n",
            "1/1 [==============================] - 0s 95ms/step\n",
            "1.0 [[1.0783752]]\n",
            "1/1 [==============================] - 0s 105ms/step\n",
            "1.0 [[1.0830529]]\n",
            "1/1 [==============================] - 0s 100ms/step\n",
            "1.0 [[1.0786568]]\n",
            "1/1 [==============================] - 0s 107ms/step\n",
            "1.0 [[1.0772692]]\n",
            "1/1 [==============================] - 0s 102ms/step\n",
            "1.0 [[1.0839309]]\n",
            "1/1 [==============================] - 0s 105ms/step\n",
            "1.0 [[1.081191]]\n",
            "1/1 [==============================] - 0s 104ms/step\n",
            "1.0 [[1.0759969]]\n",
            "1/1 [==============================] - 0s 106ms/step\n",
            "1.0 [[1.067206]]\n",
            "1/1 [==============================] - 0s 103ms/step\n",
            "1.0 [[1.0727942]]\n",
            "1/1 [==============================] - 0s 102ms/step\n",
            "1.0 [[1.0746056]]\n",
            "1/1 [==============================] - 0s 102ms/step\n",
            "1.0 [[1.0766329]]\n",
            "1/1 [==============================] - 0s 101ms/step\n",
            "1.0 [[1.0776055]]\n"
          ]
        }
      ]
    },
    {
      "cell_type": "code",
      "source": [
        "!pip install wandb"
      ],
      "metadata": {
        "id": "g5D0LvTl97ho",
        "colab": {
          "base_uri": "https://localhost:8080/"
        },
        "outputId": "74d0c0b6-9f03-4ef2-9ea5-8ea8166bced6"
      },
      "execution_count": null,
      "outputs": [
        {
          "output_type": "stream",
          "name": "stdout",
          "text": [
            "Looking in indexes: https://pypi.org/simple, https://us-python.pkg.dev/colab-wheels/public/simple/\n",
            "Requirement already satisfied: wandb in /usr/local/lib/python3.7/dist-packages (0.13.5)\n",
            "Requirement already satisfied: setproctitle in /usr/local/lib/python3.7/dist-packages (from wandb) (1.3.2)\n",
            "Requirement already satisfied: requests<3,>=2.0.0 in /usr/local/lib/python3.7/dist-packages (from wandb) (2.23.0)\n",
            "Requirement already satisfied: Click!=8.0.0,>=7.0 in /usr/local/lib/python3.7/dist-packages (from wandb) (7.1.2)\n",
            "Requirement already satisfied: six>=1.13.0 in /usr/local/lib/python3.7/dist-packages (from wandb) (1.15.0)\n",
            "Requirement already satisfied: docker-pycreds>=0.4.0 in /usr/local/lib/python3.7/dist-packages (from wandb) (0.4.0)\n",
            "Requirement already satisfied: setuptools in /usr/local/lib/python3.7/dist-packages (from wandb) (57.4.0)\n",
            "Requirement already satisfied: sentry-sdk>=1.0.0 in /usr/local/lib/python3.7/dist-packages (from wandb) (1.9.0)\n",
            "Requirement already satisfied: pathtools in /usr/local/lib/python3.7/dist-packages (from wandb) (0.1.2)\n",
            "Requirement already satisfied: PyYAML in /usr/local/lib/python3.7/dist-packages (from wandb) (6.0)\n",
            "Requirement already satisfied: shortuuid>=0.5.0 in /usr/local/lib/python3.7/dist-packages (from wandb) (1.0.11)\n",
            "Requirement already satisfied: GitPython>=1.0.0 in /usr/local/lib/python3.7/dist-packages (from wandb) (3.1.29)\n",
            "Requirement already satisfied: psutil>=5.0.0 in /usr/local/lib/python3.7/dist-packages (from wandb) (5.4.8)\n",
            "Requirement already satisfied: promise<3,>=2.0 in /usr/local/lib/python3.7/dist-packages (from wandb) (2.3)\n",
            "Requirement already satisfied: protobuf!=4.0.*,!=4.21.0,<5,>=3.12.0 in /usr/local/lib/python3.7/dist-packages (from wandb) (3.19.6)\n",
            "Requirement already satisfied: gitdb<5,>=4.0.1 in /usr/local/lib/python3.7/dist-packages (from GitPython>=1.0.0->wandb) (4.0.9)\n",
            "Requirement already satisfied: typing-extensions>=3.7.4.3 in /usr/local/lib/python3.7/dist-packages (from GitPython>=1.0.0->wandb) (4.1.1)\n",
            "Requirement already satisfied: smmap<6,>=3.0.1 in /usr/local/lib/python3.7/dist-packages (from gitdb<5,>=4.0.1->GitPython>=1.0.0->wandb) (5.0.0)\n",
            "Requirement already satisfied: idna<3,>=2.5 in /usr/local/lib/python3.7/dist-packages (from requests<3,>=2.0.0->wandb) (2.10)\n",
            "Requirement already satisfied: certifi>=2017.4.17 in /usr/local/lib/python3.7/dist-packages (from requests<3,>=2.0.0->wandb) (2022.9.24)\n",
            "Requirement already satisfied: urllib3!=1.25.0,!=1.25.1,<1.26,>=1.21.1 in /usr/local/lib/python3.7/dist-packages (from requests<3,>=2.0.0->wandb) (1.24.3)\n",
            "Requirement already satisfied: chardet<4,>=3.0.2 in /usr/local/lib/python3.7/dist-packages (from requests<3,>=2.0.0->wandb) (3.0.4)\n"
          ]
        }
      ]
    },
    {
      "cell_type": "code",
      "source": [
        "!wandb login"
      ],
      "metadata": {
        "colab": {
          "base_uri": "https://localhost:8080/"
        },
        "id": "82GPfCqUmY2t",
        "outputId": "b1e0039e-7279-4298-9417-e0c25abc1190"
      },
      "execution_count": null,
      "outputs": [
        {
          "output_type": "stream",
          "name": "stdout",
          "text": [
            "\u001b[34m\u001b[1mwandb\u001b[0m: Currently logged in as: \u001b[33msemteo04\u001b[0m. Use \u001b[1m`wandb login --relogin`\u001b[0m to force relogin\n"
          ]
        }
      ]
    },
    {
      "cell_type": "code",
      "source": [
        "!wandb login"
      ],
      "metadata": {
        "colab": {
          "base_uri": "https://localhost:8080/"
        },
        "id": "PqG-o46qmiiV",
        "outputId": "5b220b2f-ace1-4bb8-a7a1-8d194f3a2b04"
      },
      "execution_count": null,
      "outputs": [
        {
          "output_type": "stream",
          "name": "stdout",
          "text": [
            "\u001b[34m\u001b[1mwandb\u001b[0m: Currently logged in as: \u001b[33msemteo04\u001b[0m. Use \u001b[1m`wandb login --relogin`\u001b[0m to force relogin\n"
          ]
        }
      ]
    },
    {
      "cell_type": "code",
      "source": [
        "import wandb\n",
        "from wandb.keras import WandbCallback\n",
        "run = None\n",
        "run = wandb.init(project='danger')"
      ],
      "metadata": {
        "colab": {
          "base_uri": "https://localhost:8080/",
          "height": 107
        },
        "id": "ObIDCoqbmrDy",
        "outputId": "fadce829-a700-48bb-c60c-dcf646588c71"
      },
      "execution_count": null,
      "outputs": [
        {
          "output_type": "stream",
          "name": "stderr",
          "text": [
            "ERROR:wandb.jupyter:Failed to detect the name of this notebook, you can set it manually with the WANDB_NOTEBOOK_NAME environment variable to enable code saving.\n",
            "\u001b[34m\u001b[1mwandb\u001b[0m: Currently logged in as: \u001b[33msemteo04\u001b[0m. Use \u001b[1m`wandb login --relogin`\u001b[0m to force relogin\n"
          ]
        },
        {
          "output_type": "display_data",
          "data": {
            "text/plain": [
              "<IPython.core.display.HTML object>"
            ],
            "text/html": [
              "Tracking run with wandb version 0.13.5"
            ]
          },
          "metadata": {}
        },
        {
          "output_type": "display_data",
          "data": {
            "text/plain": [
              "<IPython.core.display.HTML object>"
            ],
            "text/html": [
              "Run data is saved locally in <code>/content/wandb/run-20221120_105947-28k0tpw7</code>"
            ]
          },
          "metadata": {}
        },
        {
          "output_type": "display_data",
          "data": {
            "text/plain": [
              "<IPython.core.display.HTML object>"
            ],
            "text/html": [
              "Syncing run <strong><a href=\"https://wandb.ai/semteo04/danger/runs/28k0tpw7\" target=\"_blank\">sleek-meadow-5</a></strong> to <a href=\"https://wandb.ai/semteo04/danger\" target=\"_blank\">Weights & Biases</a> (<a href=\"https://wandb.me/run\" target=\"_blank\">docs</a>)<br/>"
            ]
          },
          "metadata": {}
        }
      ]
    },
    {
      "cell_type": "code",
      "source": [],
      "metadata": {
        "id": "dwXCvgRArEy3"
      },
      "execution_count": null,
      "outputs": []
    }
  ],
  "metadata": {
    "accelerator": "GPU",
    "colab": {
      "provenance": []
    },
    "kernelspec": {
      "display_name": "Python 3",
      "name": "python3"
    },
    "language_info": {
      "name": "python"
    },
    "gpuClass": "standard"
  },
  "nbformat": 4,
  "nbformat_minor": 0
}